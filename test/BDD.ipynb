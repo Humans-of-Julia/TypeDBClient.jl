{
 "cells": [
  {
   "cell_type": "markdown",
   "metadata": {},
   "source": [
    "## Loading modules and paths"
   ]
  },
  {
   "cell_type": "code",
   "execution_count": 15,
   "metadata": {},
   "outputs": [
    {
     "data": {
      "text/plain": [
       "\"/Users/ulzee/dev/TypeDBClient.jl/test/test/behaviour/config/ConfigEnvironment.jl\""
      ]
     },
     "execution_count": 15,
     "metadata": {},
     "output_type": "execute_result"
    }
   ],
   "source": [
    "using TypeDBClient\n",
    "using Behavior\n",
    "using Behavior.Gherkin\n",
    "\n",
    "rootpath = joinpath(@__DIR__, \"test/behaviour\")\n",
    "featurepath = joinpath(@__DIR__, \"test/behaviour/features/concept/thing\")\n",
    "stepspath = joinpath(@__DIR__,\"test/behaviour/concept/thing\")\n",
    "configpath = joinpath(@__DIR__,\"test/behaviour/config/ConfigEnvironment.jl\")"
   ]
  },
  {
   "cell_type": "markdown",
   "metadata": {},
   "source": [
    "## Delete Database"
   ]
  },
  {
   "cell_type": "code",
   "execution_count": 18,
   "metadata": {},
   "outputs": [],
   "source": [
    "g = TypeDBClient\n",
    "\n",
    "client = g.CoreClient(\"localhost\",1729)\n",
    "dbs = g.get_all_databases(client)\n",
    "for db in dbs\n",
    "   g.delete_database(client, db.name) \n",
    "end"
   ]
  },
  {
   "cell_type": "markdown",
   "metadata": {},
   "source": [
    "## Place @actual on scenario to run and run it"
   ]
  },
  {
   "cell_type": "code",
   "execution_count": 17,
   "metadata": {},
   "outputs": [
    {
     "ename": "LoadError",
     "evalue": "IOError: readdir(\"/Users/ulzee/dev/TypeDBClient.jl/test/test/behaviour/concept/thing\"): no such file or directory (ENOENT)",
     "output_type": "error",
     "traceback": [
      "IOError: readdir(\"/Users/ulzee/dev/TypeDBClient.jl/test/test/behaviour/concept/thing\"): no such file or directory (ENOENT)",
      "",
      "Stacktrace:",
      "  [1] check_channel_state",
      "    @ ./channels.jl:170 [inlined]",
      "  [2] take_unbuffered(c::Channel{Tuple{String, Vector{String}, Vector{String}}})",
      "    @ Base ./channels.jl:403",
      "  [3] take!",
      "    @ ./channels.jl:383 [inlined]",
      "  [4] iterate(c::Channel{Tuple{String, Vector{String}, Vector{String}}}, state::Nothing)",
      "    @ Base ./channels.jl:465",
      "  [5] iterate",
      "    @ ./channels.jl:464 [inlined]",
      "  [6] iterate",
      "    @ ./generator.jl:44 [inlined]",
      "  [7] grow_to!(dest::Vector{Vector{String}}, itr::Base.Generator{Channel{Tuple{String, Vector{String}, Vector{String}}}, Behavior.var\"#44#45\"{String}})",
      "    @ Base ./array.jl:739",
      "  [8] collect",
      "    @ ./array.jl:676 [inlined]",
      "  [9] map",
      "    @ ./abstractarray.jl:2323 [inlined]",
      " [10] rglob",
      "    @ ~/.julia/packages/Behavior/ysH8E/src/runner.jl:38 [inlined]",
      " [11] findfileswithextension",
      "    @ ~/.julia/packages/Behavior/ysH8E/src/runner.jl:27 [inlined]",
      " [12] readstepdefinitions!(driver::Behavior.Driver, path::String)",
      "    @ Behavior ~/.julia/packages/Behavior/ysH8E/src/engine.jl:87",
      " [13] runspec(rootpath::String; featurepath::String, stepspath::String, execenvpath::String, parseoptions::ParseOptions, presenter::ColorConsolePresenter, tags::String)",
      "    @ Behavior ~/.julia/packages/Behavior/ysH8E/src/runner.jl:119",
      " [14] top-level scope",
      "    @ In[17]:3",
      " [15] eval",
      "    @ ./boot.jl:360 [inlined]",
      " [16] include_string(mapexpr::typeof(REPL.softscope), mod::Module, code::String, filename::String)",
      "    @ Base ./loading.jl:1094"
     ]
    }
   ],
   "source": [
    "p = ParseOptions(allow_any_step_order = true)\n",
    "\n",
    "runspec(rootpath; featurepath = featurepath, stepspath = stepspath,  parseoptions=p, execenvpath = configpath, tags=\"not @ignore-typedb-core\")\n",
    "\n",
    "runspec(rootpath; featurepath = featurepath, stepspath = stepspath,  parseoptions=p, execenvpath = configpath, tags=\"@actual\")"
   ]
  },
  {
   "cell_type": "code",
   "execution_count": null,
   "metadata": {},
   "outputs": [],
   "source": []
  },
  {
   "cell_type": "markdown",
   "metadata": {},
   "source": []
  }
 ],
 "metadata": {
  "kernelspec": {
   "display_name": "Julia 1.6.0",
   "language": "julia",
   "name": "julia-1.6"
  },
  "language_info": {
   "file_extension": ".jl",
   "mimetype": "application/julia",
   "name": "julia",
   "version": "1.6.1"
  }
 },
 "nbformat": 4,
 "nbformat_minor": 2
}